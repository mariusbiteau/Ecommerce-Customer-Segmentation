{
  "nbformat": 4,
  "nbformat_minor": 0,
  "metadata": {
    "colab": {
      "name": "EDA-Ecommerce-Customer-Segmentation.ipynb",
      "provenance": [],
      "authorship_tag": "ABX9TyNW5Pzf6uI1RFgDD59Oz4VL",
      "include_colab_link": true
    },
    "kernelspec": {
      "name": "python3",
      "display_name": "Python 3"
    }
  },
  "cells": [
    {
      "cell_type": "markdown",
      "metadata": {
        "id": "view-in-github",
        "colab_type": "text"
      },
      "source": [
        "<a href=\"https://colab.research.google.com/github/mariusbiteau/Ecommerce-Customer-Segmentation/blob/main/EDA_Ecommerce_Customer_Segmentation.ipynb\" target=\"_parent\"><img src=\"https://colab.research.google.com/assets/colab-badge.svg\" alt=\"Open In Colab\"/></a>"
      ]
    },
    {
      "cell_type": "code",
      "metadata": {
        "id": "UIsFqpv0-pw-"
      },
      "source": [
        "import numpy as np\n",
        "import pandas as pd\n",
        "pd.options.display.max_columns = None\n",
        "import math\n",
        "import json\n",
        "import matplotlib.mlab as mlab\n",
        "import matplotlib\n",
        "import matplotlib.pyplot as plt\n",
        "import seaborn as sns\n",
        "plt.style.use('default')\n",
        "import folium\n",
        "from google.colab import drive"
      ],
      "execution_count": 1,
      "outputs": []
    },
    {
      "cell_type": "markdown",
      "metadata": {
        "id": "CZpxVlON-7Uh"
      },
      "source": [
        "## 1. Data Import"
      ]
    },
    {
      "cell_type": "code",
      "metadata": {
        "colab": {
          "base_uri": "https://localhost:8080/"
        },
        "id": "t-_9v0KF-4rs",
        "outputId": "d80d1ef6-072a-4559-c6cd-d564664410bf"
      },
      "source": [
        "drive.mount('/content/drive')\n",
        "\n",
        "\n",
        "# Infos sur la géolocalisation\n",
        "geo = '/content/drive/My Drive/OC_DataScientist/P5/olist_geolocation_dataset.csv'\n",
        "geo = pd.read_csv(geo)\n",
        "# Infos sur les payments\n",
        "payments = '/content/drive/My Drive/OC_DataScientist/P5/olist_order_payments_dataset.csv'\n",
        "payments = pd.read_csv(payments)\n",
        "# Infos sur les achats\n",
        "orders = '/content/drive/My Drive/OC_DataScientist/P5/olist_orders_dataset.csv'\n",
        "orders = pd.read_csv(orders)\n",
        "# Infos sur les produits\n",
        "products = '/content/drive/My Drive/OC_DataScientist/P5/olist_products_dataset.csv'\n",
        "products = pd.read_csv(products)\n",
        "# Infos sur les vendeurs\n",
        "sellers = '/content/drive/My Drive/OC_DataScientist/P5/olist_sellers_dataset.csv'\n",
        "sellers = pd.read_csv(sellers)\n",
        "# Infos sur les clients\n",
        "customers = '/content/drive/My Drive/OC_DataScientist/P5/olist_customers_dataset.csv'\n",
        "customers = pd.read_csv(customers)\n",
        "# Infos sur l'évaluation des produits\n",
        "reviews = '/content/drive/My Drive/OC_DataScientist/P5/olist_order_reviews_dataset.csv'\n",
        "reviews = pd.read_csv(reviews)\n",
        "# Infos sur les items\n",
        "items = '/content/drive/My Drive/OC_DataScientist/P5/olist_order_items_dataset.csv'\n",
        "items = pd.read_csv(items)\n",
        "# Infos sur les catégories des produits\n",
        "category = '/content/drive/My Drive/OC_DataScientist/P5/product_category_name_translation.csv'\n",
        "category = pd.read_csv(category)"
      ],
      "execution_count": 2,
      "outputs": [
        {
          "output_type": "stream",
          "text": [
            "Mounted at /content/drive\n"
          ],
          "name": "stdout"
        }
      ]
    },
    {
      "cell_type": "code",
      "metadata": {
        "colab": {
          "base_uri": "https://localhost:8080/",
          "height": 406
        },
        "id": "ayRNYeYKDKo8",
        "outputId": "1c182eb4-f94e-43f7-c410-806c4363bbb5"
      },
      "source": [
        "geo"
      ],
      "execution_count": 3,
      "outputs": [
        {
          "output_type": "execute_result",
          "data": {
            "text/html": [
              "<div>\n",
              "<style scoped>\n",
              "    .dataframe tbody tr th:only-of-type {\n",
              "        vertical-align: middle;\n",
              "    }\n",
              "\n",
              "    .dataframe tbody tr th {\n",
              "        vertical-align: top;\n",
              "    }\n",
              "\n",
              "    .dataframe thead th {\n",
              "        text-align: right;\n",
              "    }\n",
              "</style>\n",
              "<table border=\"1\" class=\"dataframe\">\n",
              "  <thead>\n",
              "    <tr style=\"text-align: right;\">\n",
              "      <th></th>\n",
              "      <th>geolocation_zip_code_prefix</th>\n",
              "      <th>geolocation_lat</th>\n",
              "      <th>geolocation_lng</th>\n",
              "      <th>geolocation_city</th>\n",
              "      <th>geolocation_state</th>\n",
              "    </tr>\n",
              "  </thead>\n",
              "  <tbody>\n",
              "    <tr>\n",
              "      <th>0</th>\n",
              "      <td>1037</td>\n",
              "      <td>-23.545621</td>\n",
              "      <td>-46.639292</td>\n",
              "      <td>sao paulo</td>\n",
              "      <td>SP</td>\n",
              "    </tr>\n",
              "    <tr>\n",
              "      <th>1</th>\n",
              "      <td>1046</td>\n",
              "      <td>-23.546081</td>\n",
              "      <td>-46.644820</td>\n",
              "      <td>sao paulo</td>\n",
              "      <td>SP</td>\n",
              "    </tr>\n",
              "    <tr>\n",
              "      <th>2</th>\n",
              "      <td>1046</td>\n",
              "      <td>-23.546129</td>\n",
              "      <td>-46.642951</td>\n",
              "      <td>sao paulo</td>\n",
              "      <td>SP</td>\n",
              "    </tr>\n",
              "    <tr>\n",
              "      <th>3</th>\n",
              "      <td>1041</td>\n",
              "      <td>-23.544392</td>\n",
              "      <td>-46.639499</td>\n",
              "      <td>sao paulo</td>\n",
              "      <td>SP</td>\n",
              "    </tr>\n",
              "    <tr>\n",
              "      <th>4</th>\n",
              "      <td>1035</td>\n",
              "      <td>-23.541578</td>\n",
              "      <td>-46.641607</td>\n",
              "      <td>sao paulo</td>\n",
              "      <td>SP</td>\n",
              "    </tr>\n",
              "    <tr>\n",
              "      <th>...</th>\n",
              "      <td>...</td>\n",
              "      <td>...</td>\n",
              "      <td>...</td>\n",
              "      <td>...</td>\n",
              "      <td>...</td>\n",
              "    </tr>\n",
              "    <tr>\n",
              "      <th>1000158</th>\n",
              "      <td>99950</td>\n",
              "      <td>-28.068639</td>\n",
              "      <td>-52.010705</td>\n",
              "      <td>tapejara</td>\n",
              "      <td>RS</td>\n",
              "    </tr>\n",
              "    <tr>\n",
              "      <th>1000159</th>\n",
              "      <td>99900</td>\n",
              "      <td>-27.877125</td>\n",
              "      <td>-52.224882</td>\n",
              "      <td>getulio vargas</td>\n",
              "      <td>RS</td>\n",
              "    </tr>\n",
              "    <tr>\n",
              "      <th>1000160</th>\n",
              "      <td>99950</td>\n",
              "      <td>-28.071855</td>\n",
              "      <td>-52.014716</td>\n",
              "      <td>tapejara</td>\n",
              "      <td>RS</td>\n",
              "    </tr>\n",
              "    <tr>\n",
              "      <th>1000161</th>\n",
              "      <td>99980</td>\n",
              "      <td>-28.388932</td>\n",
              "      <td>-51.846871</td>\n",
              "      <td>david canabarro</td>\n",
              "      <td>RS</td>\n",
              "    </tr>\n",
              "    <tr>\n",
              "      <th>1000162</th>\n",
              "      <td>99950</td>\n",
              "      <td>-28.070104</td>\n",
              "      <td>-52.018658</td>\n",
              "      <td>tapejara</td>\n",
              "      <td>RS</td>\n",
              "    </tr>\n",
              "  </tbody>\n",
              "</table>\n",
              "<p>1000163 rows × 5 columns</p>\n",
              "</div>"
            ],
            "text/plain": [
              "         geolocation_zip_code_prefix  geolocation_lat  geolocation_lng  \\\n",
              "0                               1037       -23.545621       -46.639292   \n",
              "1                               1046       -23.546081       -46.644820   \n",
              "2                               1046       -23.546129       -46.642951   \n",
              "3                               1041       -23.544392       -46.639499   \n",
              "4                               1035       -23.541578       -46.641607   \n",
              "...                              ...              ...              ...   \n",
              "1000158                        99950       -28.068639       -52.010705   \n",
              "1000159                        99900       -27.877125       -52.224882   \n",
              "1000160                        99950       -28.071855       -52.014716   \n",
              "1000161                        99980       -28.388932       -51.846871   \n",
              "1000162                        99950       -28.070104       -52.018658   \n",
              "\n",
              "        geolocation_city geolocation_state  \n",
              "0              sao paulo                SP  \n",
              "1              sao paulo                SP  \n",
              "2              sao paulo                SP  \n",
              "3              sao paulo                SP  \n",
              "4              sao paulo                SP  \n",
              "...                  ...               ...  \n",
              "1000158         tapejara                RS  \n",
              "1000159   getulio vargas                RS  \n",
              "1000160         tapejara                RS  \n",
              "1000161  david canabarro                RS  \n",
              "1000162         tapejara                RS  \n",
              "\n",
              "[1000163 rows x 5 columns]"
            ]
          },
          "metadata": {
            "tags": []
          },
          "execution_count": 3
        }
      ]
    }
  ]
}